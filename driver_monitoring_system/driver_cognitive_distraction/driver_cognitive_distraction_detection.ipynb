{
  "nbformat": 4,
  "nbformat_minor": 0,
  "metadata": {
    "colab": {
      "provenance": [],
      "include_colab_link": true
    },
    "kernelspec": {
      "name": "python3",
      "display_name": "Python 3"
    },
    "language_info": {
      "name": "python"
    },
    "accelerator": "GPU",
    "gpuClass": "standard"
  },
  "cells": [
    {
      "cell_type": "markdown",
      "metadata": {
        "id": "view-in-github",
        "colab_type": "text"
      },
      "source": [
        "<a href=\"https://colab.research.google.com/github/thaipham0912712/driver_monitoring_system/blob/main/driver_monitoring_system/driver_cognitive_distraction/driver_cognitive_distraction_detection.ipynb\" target=\"_parent\"><img src=\"https://colab.research.google.com/assets/colab-badge.svg\" alt=\"Open In Colab\"/></a>"
      ]
    },
    {
      "cell_type": "code",
      "execution_count": null,
      "metadata": {
        "id": "dnlhOBXEZxw-",
        "colab": {
          "base_uri": "https://localhost:8080/"
        },
        "outputId": "e530dcd5-00c1-46e1-b698-502afe3ff83b"
      },
      "outputs": [
        {
          "output_type": "stream",
          "name": "stdout",
          "text": [
            "Mounted at /content/gdrive\n"
          ]
        }
      ],
      "source": [
        "from google.colab import drive\n",
        "drive.mount('/content/gdrive')"
      ]
    },
    {
      "cell_type": "code",
      "source": [
        "import os\n",
        "os.environ[\"CUDA_VISIBLE_DEVICES\"] = \"1\"\n",
        "\n",
        "!python /content/gdrive/MyDrive/colab_notebooks/collab_ws/driver_monitoring_system/driver_cognitive_distraction/demo_live.py"
      ],
      "metadata": {
        "colab": {
          "base_uri": "https://localhost:8080/"
        },
        "id": "XoWhuRJ0yLzB",
        "outputId": "b3cc7af2-0197-497e-863a-16e8fa85678c"
      },
      "execution_count": null,
      "outputs": [
        {
          "output_type": "stream",
          "name": "stdout",
          "text": [
            "========================================Loading Normal Vectors========================================\n",
            "Traceback (most recent call last):\n",
            "  File \"/content/gdrive/MyDrive/colab_notebooks/collab_ws/driver_monitoring_system/driver_cognitive_distraction/demo_live.py\", line 51, in <module>\n",
            "    normal_vec_front_d = normal_vec_front_d.cuda()\n",
            "  File \"/usr/local/lib/python3.8/dist-packages/torch/cuda/__init__.py\", line 229, in _lazy_init\n",
            "    torch._C._cuda_init()\n",
            "RuntimeError: No CUDA GPUs are available\n"
          ]
        }
      ]
    },
    {
      "cell_type": "code",
      "source": [
        "#!python -m pip uninstall opencv-python\n",
        "\n",
        "!python -m pip install opencv-python==4.3.0.36"
      ],
      "metadata": {
        "colab": {
          "base_uri": "https://localhost:8080/"
        },
        "id": "boh_2B4t361C",
        "outputId": "f0b94d33-c16f-4bef-90d3-b65c260d1415"
      },
      "execution_count": null,
      "outputs": [
        {
          "output_type": "stream",
          "name": "stdout",
          "text": [
            "Looking in indexes: https://pypi.org/simple, https://us-python.pkg.dev/colab-wheels/public/simple/\n",
            "Collecting opencv-python==4.3.0.36\n",
            "  Downloading opencv_python-4.3.0.36-cp38-cp38-manylinux2014_x86_64.whl (43.7 MB)\n",
            "\u001b[2K     \u001b[90m━━━━━━━━━━━━━━━━━━━━━━━━━━━━━━━━━━━━━━━━\u001b[0m \u001b[32m43.7/43.7 MB\u001b[0m \u001b[31m17.9 MB/s\u001b[0m eta \u001b[36m0:00:00\u001b[0m\n",
            "\u001b[?25hRequirement already satisfied: numpy>=1.17.3 in /usr/local/lib/python3.8/dist-packages (from opencv-python==4.3.0.36) (1.21.6)\n",
            "Installing collected packages: opencv-python\n",
            "Successfully installed opencv-python-4.3.0.36\n"
          ]
        }
      ]
    },
    {
      "cell_type": "code",
      "source": [],
      "metadata": {
        "id": "Dphfbyuh39nY"
      },
      "execution_count": null,
      "outputs": []
    }
  ]
}